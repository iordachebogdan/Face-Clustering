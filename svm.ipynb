{
 "metadata": {
  "language_info": {
   "codemirror_mode": {
    "name": "ipython",
    "version": 3
   },
   "file_extension": ".py",
   "mimetype": "text/x-python",
   "name": "python",
   "nbconvert_exporter": "python",
   "pygments_lexer": "ipython3",
   "version": "3.8.5-final"
  },
  "orig_nbformat": 2,
  "kernelspec": {
   "name": "python38564bitenv4420c8f66655495eb878e4cf117d2527",
   "display_name": "Python 3.8.5 64-bit ('.env')",
   "language": "python"
  }
 },
 "nbformat": 4,
 "nbformat_minor": 2,
 "cells": [
  {
   "source": [
    "# SVM"
   ],
   "cell_type": "markdown",
   "metadata": {}
  },
  {
   "cell_type": "code",
   "execution_count": 31,
   "metadata": {},
   "outputs": [],
   "source": [
    "import matplotlib.pyplot as plt\n",
    "import numpy as np\n",
    "from sklearn.svm import LinearSVC\n",
    "import sklearn.metrics as metrics\n",
    "import pickle\n",
    "\n",
    "from lib.pca import PCAFeatures\n",
    "import lib.bovw as bovw\n",
    "from lib.alexnet import AlexNetFeatures\n",
    "import lib.utils as utils"
   ]
  },
  {
   "source": [
    "## 1. PCA features"
   ],
   "cell_type": "markdown",
   "metadata": {}
  },
  {
   "cell_type": "code",
   "execution_count": 2,
   "metadata": {},
   "outputs": [
    {
     "output_type": "stream",
     "name": "stdout",
     "text": [
      "3500\n"
     ]
    }
   ],
   "source": [
    "train_imgs, train_labels = utils.load_train_images()\n",
    "print(len(train_imgs))"
   ]
  },
  {
   "cell_type": "code",
   "execution_count": 3,
   "metadata": {},
   "outputs": [
    {
     "output_type": "execute_result",
     "data": {
      "text/plain": [
       "(3500, 7500)"
      ]
     },
     "metadata": {},
     "execution_count": 3
    }
   ],
   "source": [
    "train_resized_imgs = utils.resize_imgs(train_imgs)\n",
    "mean_img = utils.get_mean_img(train_resized_imgs)\n",
    "train_norm_imgs = utils.basic_imgs_normalization(train_resized_imgs)\n",
    "train_features = utils.image_liniarization(train_norm_imgs)\n",
    "train_features.shape"
   ]
  },
  {
   "cell_type": "code",
   "execution_count": 4,
   "metadata": {},
   "outputs": [
    {
     "output_type": "stream",
     "name": "stdout",
     "text": [
      "(3500, 300)\n"
     ]
    }
   ],
   "source": [
    "pca_300 = PCAFeatures(dim=300)\n",
    "pca_300.fit(train_features)\n",
    "train_features_reduced_300 = pca_300.transform(train_features)\n",
    "print(train_features_reduced_300.shape)"
   ]
  },
  {
   "cell_type": "code",
   "execution_count": 5,
   "metadata": {},
   "outputs": [
    {
     "output_type": "stream",
     "name": "stdout",
     "text": [
      "[LibLinear]"
     ]
    },
    {
     "output_type": "execute_result",
     "data": {
      "text/plain": [
       "LinearSVC(verbose=True)"
      ]
     },
     "metadata": {},
     "execution_count": 5
    }
   ],
   "source": [
    "svm = LinearSVC(verbose=True)\n",
    "svm.fit(train_features_reduced_300, train_labels)"
   ]
  },
  {
   "cell_type": "code",
   "execution_count": 6,
   "metadata": {},
   "outputs": [
    {
     "output_type": "stream",
     "name": "stdout",
     "text": [
      "Train ACC: 1.0\n"
     ]
    }
   ],
   "source": [
    "predict_train = svm.predict(train_features_reduced_300)\n",
    "print(f\"Train ACC: {metrics.accuracy_score(train_labels, predict_train)}\")"
   ]
  },
  {
   "cell_type": "code",
   "execution_count": 7,
   "metadata": {},
   "outputs": [
    {
     "output_type": "stream",
     "name": "stdout",
     "text": [
      "1500\n"
     ]
    }
   ],
   "source": [
    "test_imgs, test_labels = utils.load_test_images()\n",
    "print(len(test_imgs))"
   ]
  },
  {
   "cell_type": "code",
   "execution_count": 8,
   "metadata": {},
   "outputs": [
    {
     "output_type": "execute_result",
     "data": {
      "text/plain": [
       "(1500, 7500)"
      ]
     },
     "metadata": {},
     "execution_count": 8
    }
   ],
   "source": [
    "test_resized_imgs = utils.resize_imgs(test_imgs)\n",
    "test_norm_imgs = utils.basic_imgs_normalization(test_resized_imgs, mean_img=mean_img)\n",
    "test_features = utils.image_liniarization(test_norm_imgs)\n",
    "test_features.shape"
   ]
  },
  {
   "cell_type": "code",
   "execution_count": 9,
   "metadata": {},
   "outputs": [
    {
     "output_type": "stream",
     "name": "stdout",
     "text": [
      "(1500, 300)\n"
     ]
    }
   ],
   "source": [
    "test_features_reduced_300 = pca_300.transform(test_features)\n",
    "print(test_features_reduced_300.shape)"
   ]
  },
  {
   "cell_type": "code",
   "execution_count": 10,
   "metadata": {},
   "outputs": [
    {
     "output_type": "stream",
     "name": "stdout",
     "text": [
      "Test ACC: 0.9993333333333333\n"
     ]
    }
   ],
   "source": [
    "predict_test = svm.predict(test_features_reduced_300)\n",
    "print(f\"Test ACC: {metrics.accuracy_score(test_labels, predict_test)}\")"
   ]
  },
  {
   "source": [
    "## 2. BOVW"
   ],
   "cell_type": "markdown",
   "metadata": {}
  },
  {
   "cell_type": "code",
   "execution_count": 12,
   "metadata": {},
   "outputs": [
    {
     "output_type": "stream",
     "name": "stdout",
     "text": [
      "3500\n"
     ]
    }
   ],
   "source": [
    "train_imgs, train_labels = utils.load_train_images_cv_grayscale()\n",
    "print(len(train_imgs))"
   ]
  },
  {
   "cell_type": "code",
   "execution_count": 13,
   "metadata": {},
   "outputs": [
    {
     "output_type": "stream",
     "name": "stdout",
     "text": [
      "Performing K-Means\n",
      "Computing histograms\n",
      "(3500, 4000)\n"
     ]
    }
   ],
   "source": [
    "bag_of_visual_words = bovw.BOVWFeatures(dim=4000)\n",
    "train_features = bag_of_visual_words.fit_and_get_histograms(train_imgs)\n",
    "print(train_features.shape)"
   ]
  },
  {
   "cell_type": "code",
   "execution_count": 14,
   "metadata": {},
   "outputs": [
    {
     "output_type": "stream",
     "name": "stdout",
     "text": [
      "[LibLinear]"
     ]
    },
    {
     "output_type": "execute_result",
     "data": {
      "text/plain": [
       "LinearSVC(verbose=True)"
      ]
     },
     "metadata": {},
     "execution_count": 14
    }
   ],
   "source": [
    "svm = LinearSVC(verbose=True)\n",
    "svm.fit(train_features, train_labels)"
   ]
  },
  {
   "cell_type": "code",
   "execution_count": 15,
   "metadata": {},
   "outputs": [
    {
     "output_type": "stream",
     "name": "stdout",
     "text": [
      "Train ACC: 1.0\n"
     ]
    }
   ],
   "source": [
    "predict_train = svm.predict(train_features)\n",
    "print(f\"Train ACC: {metrics.accuracy_score(train_labels, predict_train)}\")"
   ]
  },
  {
   "cell_type": "code",
   "execution_count": 18,
   "metadata": {},
   "outputs": [
    {
     "output_type": "stream",
     "name": "stdout",
     "text": [
      "1500\n"
     ]
    }
   ],
   "source": [
    "test_imgs, test_labels = utils.load_test_images_cv_grayscale()\n",
    "print(len(test_imgs))"
   ]
  },
  {
   "cell_type": "code",
   "execution_count": 19,
   "metadata": {},
   "outputs": [
    {
     "output_type": "execute_result",
     "data": {
      "text/plain": [
       "(1500, 4000)"
      ]
     },
     "metadata": {},
     "execution_count": 19
    }
   ],
   "source": [
    "test_features = bag_of_visual_words.get_histograms(test_imgs)\n",
    "test_features.shape"
   ]
  },
  {
   "cell_type": "code",
   "execution_count": 20,
   "metadata": {},
   "outputs": [
    {
     "output_type": "stream",
     "name": "stdout",
     "text": [
      "Test ACC: 0.9966666666666667\n"
     ]
    }
   ],
   "source": [
    "predict_test = svm.predict(test_features)\n",
    "print(f\"Test ACC: {metrics.accuracy_score(test_labels, predict_test)}\")"
   ]
  },
  {
   "source": [
    "## 3. AlexNet Features"
   ],
   "cell_type": "markdown",
   "metadata": {}
  },
  {
   "cell_type": "code",
   "execution_count": 22,
   "metadata": {},
   "outputs": [
    {
     "output_type": "stream",
     "name": "stdout",
     "text": [
      "3500\n"
     ]
    }
   ],
   "source": [
    "train_imgs, train_labels = utils.load_train_images(as_pil=True)\n",
    "print(len(train_imgs))"
   ]
  },
  {
   "cell_type": "code",
   "execution_count": 23,
   "metadata": {},
   "outputs": [
    {
     "output_type": "execute_result",
     "data": {
      "text/plain": [
       "(3500, 64896)"
      ]
     },
     "metadata": {},
     "execution_count": 23
    }
   ],
   "source": [
    "alexnet_features = AlexNetFeatures()\n",
    "train_features = alexnet_features.get_embeddings(train_imgs)\n",
    "train_features.shape"
   ]
  },
  {
   "cell_type": "code",
   "execution_count": 24,
   "metadata": {},
   "outputs": [
    {
     "output_type": "stream",
     "name": "stdout",
     "text": [
      "[LibLinear]"
     ]
    },
    {
     "output_type": "execute_result",
     "data": {
      "text/plain": [
       "LinearSVC(verbose=True)"
      ]
     },
     "metadata": {},
     "execution_count": 24
    }
   ],
   "source": [
    "svm = LinearSVC(verbose=True)\n",
    "svm.fit(train_features, train_labels)"
   ]
  },
  {
   "cell_type": "code",
   "execution_count": 26,
   "metadata": {},
   "outputs": [
    {
     "output_type": "stream",
     "name": "stdout",
     "text": [
      "Train ACC: 1.0\n"
     ]
    }
   ],
   "source": [
    "predict_train = svm.predict(train_features)\n",
    "print(f\"Train ACC: {metrics.accuracy_score(train_labels, predict_train)}\")"
   ]
  },
  {
   "cell_type": "code",
   "execution_count": 27,
   "metadata": {},
   "outputs": [
    {
     "output_type": "stream",
     "name": "stdout",
     "text": [
      "1500\n"
     ]
    }
   ],
   "source": [
    "test_imgs, test_labels = utils.load_test_images(as_pil=True)\n",
    "print(len(test_imgs))"
   ]
  },
  {
   "cell_type": "code",
   "execution_count": 28,
   "metadata": {},
   "outputs": [
    {
     "output_type": "execute_result",
     "data": {
      "text/plain": [
       "(1500, 64896)"
      ]
     },
     "metadata": {},
     "execution_count": 28
    }
   ],
   "source": [
    "test_features = alexnet_features.get_embeddings(test_imgs)\n",
    "test_features.shape"
   ]
  },
  {
   "cell_type": "code",
   "execution_count": 29,
   "metadata": {},
   "outputs": [
    {
     "output_type": "stream",
     "name": "stdout",
     "text": [
      "Test ACC: 0.9986666666666667\n"
     ]
    }
   ],
   "source": [
    "predict_test = svm.predict(test_features)\n",
    "print(f\"Test ACC: {metrics.accuracy_score(test_labels, predict_test)}\")"
   ]
  },
  {
   "source": [
    "## 4. Dlib Facenet Features"
   ],
   "cell_type": "markdown",
   "metadata": {}
  },
  {
   "cell_type": "code",
   "execution_count": 32,
   "metadata": {},
   "outputs": [
    {
     "output_type": "execute_result",
     "data": {
      "text/plain": [
       "(3500, 128)"
      ]
     },
     "metadata": {},
     "execution_count": 32
    }
   ],
   "source": [
    "train_features = None\n",
    "with open(\"./.emb_cache/dlib/train_embs.bin\", \"rb\") as f:\n",
    "    train_features = pickle.load(f)\n",
    "train_features.shape"
   ]
  },
  {
   "cell_type": "code",
   "execution_count": 33,
   "metadata": {},
   "outputs": [
    {
     "output_type": "stream",
     "name": "stdout",
     "text": [
      "[LibLinear]"
     ]
    },
    {
     "output_type": "execute_result",
     "data": {
      "text/plain": [
       "LinearSVC(verbose=True)"
      ]
     },
     "metadata": {},
     "execution_count": 33
    }
   ],
   "source": [
    "svm = LinearSVC(verbose=True)\n",
    "svm.fit(train_features, train_labels)"
   ]
  },
  {
   "cell_type": "code",
   "execution_count": 34,
   "metadata": {},
   "outputs": [
    {
     "output_type": "stream",
     "name": "stdout",
     "text": [
      "Train ACC: 1.0\n"
     ]
    }
   ],
   "source": [
    "predict_train = svm.predict(train_features)\n",
    "print(f\"Train ACC: {metrics.accuracy_score(train_labels, predict_train)}\")"
   ]
  },
  {
   "cell_type": "code",
   "execution_count": 35,
   "metadata": {},
   "outputs": [
    {
     "output_type": "execute_result",
     "data": {
      "text/plain": [
       "(1500, 128)"
      ]
     },
     "metadata": {},
     "execution_count": 35
    }
   ],
   "source": [
    "test_features = None\n",
    "with open(\"./.emb_cache/dlib/test_embs.bin\", \"rb\") as f:\n",
    "    test_features = pickle.load(f)\n",
    "test_features.shape"
   ]
  },
  {
   "cell_type": "code",
   "execution_count": 36,
   "metadata": {},
   "outputs": [
    {
     "output_type": "stream",
     "name": "stdout",
     "text": [
      "Test ACC: 1.0\n"
     ]
    }
   ],
   "source": [
    "predict_test = svm.predict(test_features)\n",
    "print(f\"Test ACC: {metrics.accuracy_score(test_labels, predict_test)}\")"
   ]
  }
 ]
}